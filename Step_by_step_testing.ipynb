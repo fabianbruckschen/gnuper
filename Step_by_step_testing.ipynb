{
 "cells": [
  {
   "cell_type": "code",
   "execution_count": null,
   "metadata": {},
   "outputs": [],
   "source": [
    "import os  # operating system functions like renaming files and directories\n",
    "import shutil  # recursive file and directory operations\n",
    "import glob  # pattern matching for paths\n",
    "import pandas as pd  # data mangling and transforming\n",
    "import bandicoot as bc  # MIT toolkit for creating bandicoot indicators\n",
    "import argparse  # entering flags from the cmd line\n",
    "from pyspark.sql import SparkSession  # using spark context for big data files\n",
    "from pyspark.sql.functions import col  # needed for function over each column\n",
    "from attributes_classes import Attributes\n",
    "from queries import Queries\n",
    "from preprocessing_functions import (read_as_sdf, sdf_from_folder, union_all,\n",
    "                                     bc_batch, aggregate_chunks)"
   ]
  },
  {
   "cell_type": "code",
   "execution_count": null,
   "metadata": {},
   "outputs": [],
   "source": [
    "mp_flag = True\n",
    "bc_flag = True\n",
    "no_info = False\n",
    "clean_up = False\n",
    "raw_data_path = '../data/'"
   ]
  },
  {
   "cell_type": "code",
   "execution_count": null,
   "metadata": {},
   "outputs": [],
   "source": [
    "# define attributes for this session\n",
    "attributes = Attributes(mp_flag=mp_flag, bc_flag=bc_flag, no_info=no_info, clean_up=clean_up,\n",
    "                        raw_data_path=raw_data_path,\n",
    "                        cap_lat=15.500654, cap_long=32.559899,  # capital gps\n",
    "                        weekend_days=[5, 6], call_unit_multiplicator=60)"
   ]
  },
  {
   "cell_type": "code",
   "execution_count": null,
   "metadata": {},
   "outputs": [],
   "source": [
    "q = Queries()"
   ]
  }
 ],
 "metadata": {
  "kernelspec": {
   "display_name": "Python 3",
   "language": "python",
   "name": "python3"
  },
  "language_info": {
   "codemirror_mode": {
    "name": "ipython",
    "version": 3
   },
   "file_extension": ".py",
   "mimetype": "text/x-python",
   "name": "python",
   "nbconvert_exporter": "python",
   "pygments_lexer": "ipython3",
   "version": "3.6.5"
  }
 },
 "nbformat": 4,
 "nbformat_minor": 2
}
