{
 "cells": [
  {
   "cell_type": "code",
   "execution_count": null,
   "metadata": {},
   "outputs": [],
   "source": [
    "import os  # operating system functions like renaming files and directories\n",
    "import shutil  # recursive file and directory operations\n",
    "import glob  # pattern matching for paths\n",
    "import pandas as pd  # data mangling and transforming\n",
    "import bandicoot as bc  # MIT toolkit for creating bandicoot indicators\n",
    "import argparse  # entering flags from the cmd line\n",
    "import gnuper as gn  # the package in question\n",
    "from pyspark.sql import SparkSession  # using spark context for big data files\n",
    "from pyspark.sql.functions import col  # needed for function over each column"
   ]
  },
  {
   "cell_type": "code",
   "execution_count": null,
   "metadata": {},
   "outputs": [],
   "source": [
    "mp_flag = True\n",
    "bc_flag = True\n",
    "verbose = True\n",
    "clean_up = False\n",
    "raw_data_path = 'sample_data/'"
   ]
  },
  {
   "cell_type": "code",
   "execution_count": null,
   "metadata": {},
   "outputs": [],
   "source": [
    "# define attributes for this session\n",
    "att = gn.Attributes(mp_flag=mp_flag, bc_flag=bc_flag, verbose=verbose, clean_up=clean_up,\n",
    "                    raw_data_path=raw_data_path,\n",
    "                    cap_coords=(15.500654, 32.559899),  # capital gps (lat, lon)\n",
    "                    weekend_days=[5, 6])"
   ]
  },
  {
   "cell_type": "code",
   "execution_count": null,
   "metadata": {},
   "outputs": [],
   "source": []
  }
 ],
 "metadata": {
  "kernelspec": {
   "display_name": "Python 3",
   "language": "python",
   "name": "python3"
  },
  "language_info": {
   "codemirror_mode": {
    "name": "ipython",
    "version": 3
   },
   "file_extension": ".py",
   "mimetype": "text/x-python",
   "name": "python",
   "nbconvert_exporter": "python",
   "pygments_lexer": "ipython3",
   "version": "3.6.5"
  }
 },
 "nbformat": 4,
 "nbformat_minor": 2
}
