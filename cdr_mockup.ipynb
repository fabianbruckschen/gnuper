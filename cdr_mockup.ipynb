{
 "cells": [
  {
   "cell_type": "markdown",
   "metadata": {},
   "source": [
    "# Synthetic CDR files for testing (sample_data)\n",
    "\n",
    "This file creates synthetic \"raw\" CDRs and saves them as daily .csv-files.\n",
    "\n",
    "The format of these CDRs is defined by the following structure which can be adjusted by the user:\n",
    "\n",
    "\n",
    "| call_record_type | caller_msisdn | call_date          | basic_service | cell_id            | call_partner_identity_type | call_partner_identity | tac_code | call_duration |\n",
    "|------------------|---------------|--------------------|---------------|--------------------|----------------------------|-----------------------|----------|---------------|\n",
    "| 2                | ---           | 2018-01-01 0:00:00 | 1             | 608-01-09004-02971 | 1                          | ---                   | ---      | 1             |\n",
    "| 1                | ---           | 2018-01-01 0:00:00 | 2             | 608-01-00820-03058 | 1                          | ---                   | ---      | NA            |\n",
    "| 1                | ---           | 2018-01-01 0:00:01 | 1             | 608-01-00111-01429 | 1                          | ---                   | ---      | 9             |\n",
    "\n",
    "Where the call_record_type defines the status of an event (1=incoming or 2=outgoing), the call_date is the exact timestamp and the basic_service defines the nature of an event (1=call or 2=SMS). The cell_id corresponds to a Base Transceiver Station (BTS) located at an antenna and the call_partner_identity_type describes if it is a national (1) or international (2) event. Call_duration defines the length in seconds (SMS are coded as NA). The tac_code refers to a user’s mobile and the caller_msisdn as well as the call_partner_identity identify the initiator and receiver of an event. These three variables are the ones most critical for privacy concerns, but are not visible in the final features dataset.\n",
    "\n",
    "Following features are included in the CDRs:\n",
    "- Off-net / international events (via missing records)\n",
    "- Different activity levels of users (via sample weights)\n",
    "\n",
    "Following features could be included in the future:\n",
    "- Spatio-temporal dependencies and paths for users\n",
    "- (Social) network structures among users"
   ]
  },
  {
   "cell_type": "markdown",
   "metadata": {},
   "source": [
    "## Modules"
   ]
  },
  {
   "cell_type": "code",
   "execution_count": 1,
   "metadata": {},
   "outputs": [
    {
     "ename": "ImportError",
     "evalue": "cannot import name 'choices'",
     "output_type": "error",
     "traceback": [
      "\u001b[0;31m---------------------------------------------------------------------------\u001b[0m",
      "\u001b[0;31mImportError\u001b[0m                               Traceback (most recent call last)",
      "\u001b[0;32m<ipython-input-1-352d7d721f43>\u001b[0m in \u001b[0;36m<module>\u001b[0;34m\u001b[0m\n\u001b[1;32m      6\u001b[0m \u001b[0;32mimport\u001b[0m \u001b[0mnumpy\u001b[0m \u001b[0;32mas\u001b[0m \u001b[0mnp\u001b[0m  \u001b[0;31m# handling vectors and matrices\u001b[0m\u001b[0;34m\u001b[0m\u001b[0m\n\u001b[1;32m      7\u001b[0m \u001b[0;32mfrom\u001b[0m \u001b[0mgnuper\u001b[0m \u001b[0;32mimport\u001b[0m \u001b[0mattributes\u001b[0m \u001b[0;31m# making use of the mockup attributes\u001b[0m\u001b[0;34m\u001b[0m\u001b[0m\n\u001b[0;32m----> 8\u001b[0;31m \u001b[0;32mfrom\u001b[0m \u001b[0mrandom\u001b[0m \u001b[0;32mimport\u001b[0m \u001b[0mchoices\u001b[0m  \u001b[0;31m# to draw from weighted distribution\u001b[0m\u001b[0;34m\u001b[0m\u001b[0m\n\u001b[0m",
      "\u001b[0;31mImportError\u001b[0m: cannot import name 'choices'"
     ]
    }
   ],
   "source": [
    "import os  # operating system functions like renaming files and directories\n",
    "import shutil  # recursive file and directory operations\n",
    "import datetime as dt  # handling timestamps\n",
    "import random as rd  # generating random numbers for distributions\n",
    "import pandas as pd  # data mangling and transforming\n",
    "import numpy as np  # handling vectors and matrices\n",
    "from gnuper import attributes # making use of the mockup attributes\n",
    "from random import choices  # to draw from weighted distribution"
   ]
  },
  {
   "cell_type": "markdown",
   "metadata": {},
   "source": [
    "## Parameters from MockupAttributes class & random seed"
   ]
  },
  {
   "cell_type": "code",
   "execution_count": null,
   "metadata": {},
   "outputs": [],
   "source": [
    "# default values for a small sample set\n",
    "mua = attributes.MockupAttributes(n_antennas=500, n_users=5000,\n",
    "                                  max_call_duration=120*60, \n",
    "                                  date_format='%Y-%m-%d %H:%M:%S', \n",
    "                                  date_window=['2018-10-01', '2018-10-31'],\n",
    "                                  raw_header=False, location_header=False,\n",
    "                                  output_path='../sample_data/')"
   ]
  },
  {
   "cell_type": "code",
   "execution_count": null,
   "metadata": {},
   "outputs": [],
   "source": [
    "rd.seed(6041)"
   ]
  },
  {
   "cell_type": "markdown",
   "metadata": {},
   "source": [
    "## Create cells & antennas with specific coordinates"
   ]
  },
  {
   "cell_type": "code",
   "execution_count": null,
   "metadata": {},
   "outputs": [],
   "source": [
    "n_cells = mua.n_antennas*mua.n_cells_p_antenna"
   ]
  },
  {
   "cell_type": "code",
   "execution_count": null,
   "metadata": {},
   "outputs": [],
   "source": [
    "tow = pd.DataFrame(data={mua.loc_column_names['antenna']: \n",
    "                         rd.sample(range(mua.n_antennas, mua.n_antennas*10), mua.n_antennas)*mua.n_cells_p_antenna,\n",
    "                         mua.loc_column_names['cell']: \n",
    "                         rd.sample(range(n_cells, n_cells*10), n_cells)})"
   ]
  },
  {
   "cell_type": "code",
   "execution_count": null,
   "metadata": {},
   "outputs": [],
   "source": [
    "tow = pd.merge(tow,\n",
    "               pd.DataFrame(data={mua.loc_column_names['antenna']: tow[mua.loc_column_names['antenna']].unique(),\n",
    "                                  mua.loc_column_names['long']: np.random.uniform(mua.long_range[0], \n",
    "                                                                                  mua.long_range[1], \n",
    "                                                                                  size = mua.n_antennas),\n",
    "                                  mua.loc_column_names['lat']: np.random.uniform(mua.lat_range[0], \n",
    "                                                                                 mua.lat_range[1], \n",
    "                                                                                 size = mua.n_antennas)}),\n",
    "               how='left',\n",
    "               on=mua.loc_column_names['antenna'])"
   ]
  },
  {
   "cell_type": "markdown",
   "metadata": {},
   "source": [
    "## Create indicator for Out-Of-Area (OOA) traffic"
   ]
  },
  {
   "cell_type": "code",
   "execution_count": null,
   "metadata": {},
   "outputs": [],
   "source": [
    "# create a border of 0.5 around the created towers, remember towers outside of this border\n",
    "cell_out = tow.query(mua.loc_column_names['long']+'<'+str(mua.long_range[0]+0.5)+'|'+\n",
    "                    mua.loc_column_names['long']+'>'+str(mua.long_range[1]-0.5)+'|'+\n",
    "                    mua.loc_column_names['lat']+'<'+str(mua.lat_range[0]+0.5)+'|'+\n",
    "                    mua.loc_column_names['lat']+'>'+str(mua.lat_range[1]-0.5))[mua.loc_column_names['cell']]\\\n",
    "            .unique()"
   ]
  },
  {
   "cell_type": "markdown",
   "metadata": {},
   "source": [
    "## Create population of MSISDNs with different activity levels"
   ]
  },
  {
   "cell_type": "code",
   "execution_count": null,
   "metadata": {},
   "outputs": [],
   "source": [
    "id_pop = np.round(np.random.uniform(1e8, 1e9, size = mua.n_users), decimals = 2)"
   ]
  },
  {
   "cell_type": "code",
   "execution_count": null,
   "metadata": {},
   "outputs": [],
   "source": [
    "weights = np.random.normal(1, 0.2, size = mua.n_users)"
   ]
  },
  {
   "cell_type": "code",
   "execution_count": null,
   "metadata": {},
   "outputs": [],
   "source": [
    "weights = np.where(weights < 0, 0, weights) # windsorize"
   ]
  },
  {
   "cell_type": "code",
   "execution_count": null,
   "metadata": {},
   "outputs": [],
   "source": [
    "weights = weights/sum(weights)  # standardize"
   ]
  },
  {
   "cell_type": "markdown",
   "metadata": {},
   "source": [
    "## Create basic outgoing frame"
   ]
  },
  {
   "cell_type": "code",
   "execution_count": null,
   "metadata": {},
   "outputs": [],
   "source": [
    "cdr_out = pd.DataFrame(data={mua.raw_column_names['type']: 2,\n",
    "                             mua.raw_column_names['msisdn']: np.random.choice(\n",
    "                                 id_pop, p=weights, size=mua.n_total_events, replace=True),\n",
    "                             mua.raw_column_names['date']: np.random.choice(\n",
    "                                 pd.date_range(mua.date_window[0]+' 00:00:00',\n",
    "                                               mua.date_window[1]+' 23:59:59', freq='S'),\n",
    "                                 size=mua.n_total_events, replace=True),\n",
    "                             mua.raw_column_names['service']: np.random.randint(1, 3, size = mua.n_total_events),\n",
    "                             mua.raw_column_names['location']: np.random.choice(\n",
    "                                 tow[mua.loc_column_names['cell']],\n",
    "                                 size=mua.n_total_events, replace = True),\n",
    "                             mua.raw_column_names['partner_type']: choices(\n",
    "                                 [1,2], [0.99,0.01], k=mua.n_total_events),\n",
    "                             mua.raw_column_names['partner']: np.random.choice(\n",
    "                                 id_pop, p=weights, size=mua.n_total_events, replace=True),\n",
    "                             mua.raw_column_names['tac']: np.random.uniform(\n",
    "                                 1e6, 1e7, size=mua.n_total_events),\n",
    "                             mua.raw_column_names['duration']: np.random.binomial(\n",
    "                                 mua.max_call_duration, 60/mua.max_call_duration, size=mua.n_total_events)})"
   ]
  },
  {
   "cell_type": "code",
   "execution_count": null,
   "metadata": {},
   "outputs": [],
   "source": [
    "# create chunk for daily saves (later on)\n",
    "cdr_out['chunk'] = cdr_out[mua.raw_column_names['date']].dt.strftime('%Y%m%d')"
   ]
  },
  {
   "cell_type": "markdown",
   "metadata": {},
   "source": [
    "## Create basic incoming frame"
   ]
  },
  {
   "cell_type": "code",
   "execution_count": null,
   "metadata": {},
   "outputs": [],
   "source": [
    "cdr_in = pd.DataFrame(data={mua.raw_column_names['type']: 1,\n",
    "                            mua.raw_column_names['msisdn']: cdr_out[mua.raw_column_names['partner']],\n",
    "                            mua.raw_column_names['date']: cdr_out[mua.raw_column_names['date']],\n",
    "                            mua.raw_column_names['service']: cdr_out[mua.raw_column_names['service']],\n",
    "                            mua.raw_column_names['location']: np.random.choice(\n",
    "                                tow[mua.loc_column_names['cell']], size=mua.n_total_events, replace=True),\n",
    "                            mua.raw_column_names['partner_type']: cdr_out[mua.raw_column_names['type']],\n",
    "                            mua.raw_column_names['partner']: cdr_out[mua.raw_column_names['msisdn']],\n",
    "                            mua.raw_column_names['tac']: np.random.uniform(1e6, 1e7, size=mua.n_total_events),\n",
    "                            mua.raw_column_names['duration']: cdr_out[mua.raw_column_names['duration']],\n",
    "                            'chunk': cdr_out['chunk']})"
   ]
  },
  {
   "cell_type": "markdown",
   "metadata": {},
   "source": [
    "## Join to one frame"
   ]
  },
  {
   "cell_type": "code",
   "execution_count": null,
   "metadata": {},
   "outputs": [],
   "source": [
    "cdr = cdr_in.append(cdr_out)\n",
    "# release memory\n",
    "del [cdr_in, cdr_out]"
   ]
  },
  {
   "cell_type": "markdown",
   "metadata": {},
   "source": [
    "## Postprocessing"
   ]
  },
  {
   "cell_type": "code",
   "execution_count": null,
   "metadata": {},
   "outputs": [],
   "source": [
    "# Remove OOA records\n",
    "cdr = cdr[~cdr[mua.raw_column_names['location']].isin(cell_out)]"
   ]
  },
  {
   "cell_type": "code",
   "execution_count": null,
   "metadata": {},
   "outputs": [],
   "source": [
    "# Delete records of self-calling/-texting\n",
    "cdr = cdr[cdr[mua.raw_column_names['msisdn']] != cdr[mua.raw_column_names['partner']]]"
   ]
  },
  {
   "cell_type": "code",
   "execution_count": null,
   "metadata": {},
   "outputs": [],
   "source": [
    "# Set call duration for SMS to NA\n",
    "cdr[mua.raw_column_names['duration']] = np.where(cdr[mua.raw_column_names['service']]==2, None,\n",
    "                                                 cdr[mua.raw_column_names['duration']])"
   ]
  },
  {
   "cell_type": "markdown",
   "metadata": {},
   "source": [
    "## Exporting"
   ]
  },
  {
   "cell_type": "markdown",
   "metadata": {},
   "source": [
    "### daily CDRs to .csv"
   ]
  },
  {
   "cell_type": "code",
   "execution_count": null,
   "metadata": {},
   "outputs": [],
   "source": [
    "days = pd.date_range(mua.date_window[0], mua.date_window[1]).strftime('%Y%m%d')"
   ]
  },
  {
   "cell_type": "code",
   "execution_count": null,
   "metadata": {},
   "outputs": [],
   "source": [
    "# delete folder if it exists and create empty new one\n",
    "if os.path.exists(mua.output_path):\n",
    "    shutil.rmtree(mua.output_path)\n",
    "os.makedirs(mua.output_path)"
   ]
  },
  {
   "cell_type": "code",
   "execution_count": null,
   "metadata": {},
   "outputs": [],
   "source": [
    "for i in days:\n",
    "    temp = cdr[cdr['chunk']==i].drop('chunk', axis=1)\n",
    "    temp.to_csv(mua.output_path+'%s.csv'%i, index=False, header=mua.raw_header)"
   ]
  },
  {
   "cell_type": "markdown",
   "metadata": {},
   "source": [
    "### tower locations to .csv"
   ]
  },
  {
   "cell_type": "code",
   "execution_count": null,
   "metadata": {},
   "outputs": [],
   "source": [
    "tow.to_csv(mua.output_path+mua.loc_file_name, index=False, header=mua.location_header)"
   ]
  }
 ],
 "metadata": {
  "kernelspec": {
   "display_name": "Python 3",
   "language": "python",
   "name": "python3"
  },
  "language_info": {
   "codemirror_mode": {
    "name": "ipython",
    "version": 3
   },
   "file_extension": ".py",
   "mimetype": "text/x-python",
   "name": "python",
   "nbconvert_exporter": "python",
   "pygments_lexer": "ipython3",
   "version": "3.5.2"
  }
 },
 "nbformat": 4,
 "nbformat_minor": 2
}
