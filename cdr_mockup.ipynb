{
 "cells": [
  {
   "cell_type": "markdown",
   "metadata": {},
   "source": [
    "# Synthetic CDR files for testing\n",
    "\n",
    "This file creates synthetic \"raw\" CDRs and saves them as daily .csv-files. The format of the CDRs follows the structure laid out in the \"Covariate Creation Process\" document.\n",
    "\n",
    "Following features are included in the CDRs:\n",
    "- Off-net / international events (via missing records)\n",
    "- Different activity levels of users (via sample weights)\n",
    "\n",
    "Following features could be included in the future:\n",
    "- Spatio-temporal dependencies and paths for users\n",
    "- (Social) network structures among users"
   ]
  },
  {
   "cell_type": "markdown",
   "metadata": {},
   "source": [
    "## Modules"
   ]
  },
  {
   "cell_type": "code",
   "execution_count": null,
   "metadata": {},
   "outputs": [],
   "source": [
    "import os  # operating system functions like renaming files and directories\n",
    "import shutil  # recursive file and directory operations\n",
    "import datetime as dt  # handling timestamps\n",
    "import random as rd  # generating random numbers for distributions\n",
    "import pandas as pd  # data mangling and transforming\n",
    "import numpy as np  # handling vectors and matrices\n",
    "from random import choices  # to draw from weighted distribution\n",
    "from attributes_classes import MockupAttributes  # module intern attributes"
   ]
  },
  {
   "cell_type": "markdown",
   "metadata": {},
   "source": [
    "## Parameters from MockupAttributes class & random seed"
   ]
  },
  {
   "cell_type": "code",
   "execution_count": null,
   "metadata": {},
   "outputs": [],
   "source": [
    "moa = MockupAttributes(n_cells=150, n_users=500, call_unit='m', \n",
    "                       max_call_duration=120, date_format='%d %b %Y %H:%M:%S', \n",
    "                       date_window=['2018-06-01', '2018-06-30'],\n",
    "                       raw_header=False, location_header=False,\n",
    "                       output_path='../data/')"
   ]
  },
  {
   "cell_type": "code",
   "execution_count": null,
   "metadata": {},
   "outputs": [],
   "source": [
    "rd.seed(6041)"
   ]
  },
  {
   "cell_type": "markdown",
   "metadata": {},
   "source": [
    "## Create cells & antennas with specific coordinates"
   ]
  },
  {
   "cell_type": "code",
   "execution_count": null,
   "metadata": {},
   "outputs": [],
   "source": [
    "tow = pd.DataFrame(data={moa.loc_column_names['cell']: rd.sample(range(moa.n_cells, moa.n_cells*10), moa.n_cells)})"
   ]
  },
  {
   "cell_type": "code",
   "execution_count": null,
   "metadata": {},
   "outputs": [],
   "source": [
    "tow[moa.loc_column_names['antenna']] = np.floor(tow[moa.loc_column_names['cell']]/moa.n_cells_p_antenna).astype(int)"
   ]
  },
  {
   "cell_type": "code",
   "execution_count": null,
   "metadata": {},
   "outputs": [],
   "source": [
    "# unique antennas\n",
    "u_antennas = pd.unique(tow[moa.loc_column_names['antenna']])"
   ]
  },
  {
   "cell_type": "code",
   "execution_count": null,
   "metadata": {},
   "outputs": [],
   "source": [
    "tow = pd.merge(tow,pd.DataFrame(data={moa.loc_column_names['antenna']: u_antennas,\n",
    "                                      moa.loc_column_names['long']: np.random.uniform(moa.long_range[0], moa.long_range[1], size = len(u_antennas)),\n",
    "                                      moa.loc_column_names['lat']: np.random.uniform(moa.lat_range[0], moa.lat_range[1], size = len(u_antennas))}),\n",
    "               how = 'left',\n",
    "                on = moa.loc_column_names['antenna'])"
   ]
  },
  {
   "cell_type": "markdown",
   "metadata": {},
   "source": [
    "## Create indicator for Out-Of-Area (OOA) traffic"
   ]
  },
  {
   "cell_type": "code",
   "execution_count": null,
   "metadata": {},
   "outputs": [],
   "source": [
    "# create a border of 0.5 around the created towers, remember towers outside of this border\n",
    "tow_out = tow.query(moa.loc_column_names['long']+'<'+str(moa.long_range[0]+0.5)+'|'+\n",
    "                   moa.loc_column_names['long']+'>'+str(moa.long_range[1]-0.5)+'|'+\n",
    "                   moa.loc_column_names['lat']+'<'+str(moa.lat_range[0]+0.5)+'|'+\n",
    "                   moa.loc_column_names['lat']+'>'+str(moa.lat_range[1]-0.5))[moa.loc_column_names['cell']]"
   ]
  },
  {
   "cell_type": "markdown",
   "metadata": {},
   "source": [
    "## Create population of MSISDNs with different activity levels"
   ]
  },
  {
   "cell_type": "code",
   "execution_count": null,
   "metadata": {},
   "outputs": [],
   "source": [
    "id_pop = np.round(np.random.uniform(100000000, 1000000000, size = moa.n_users), decimals = 2)"
   ]
  },
  {
   "cell_type": "code",
   "execution_count": null,
   "metadata": {},
   "outputs": [],
   "source": [
    "weights = np.random.normal(1, 0.2, size = moa.n_users)"
   ]
  },
  {
   "cell_type": "code",
   "execution_count": null,
   "metadata": {},
   "outputs": [],
   "source": [
    "weights = np.where(weights < 0, 0, weights)"
   ]
  },
  {
   "cell_type": "code",
   "execution_count": null,
   "metadata": {},
   "outputs": [],
   "source": [
    "weights = weights/sum(weights)  # standardize"
   ]
  },
  {
   "cell_type": "markdown",
   "metadata": {},
   "source": [
    "## Create basic outgoing frame"
   ]
  },
  {
   "cell_type": "code",
   "execution_count": null,
   "metadata": {},
   "outputs": [],
   "source": [
    "# if seconds, keep as it is\n",
    "# if minutes round it to 2 digits after the comma\n",
    "call_unit_multiplier = 1 if moa.call_unit=='s' else 100"
   ]
  },
  {
   "cell_type": "code",
   "execution_count": null,
   "metadata": {},
   "outputs": [],
   "source": [
    "cdr_out = pd.DataFrame(data={moa.raw_column_names['type']: 2,\n",
    "                             moa.raw_column_names['msisdn']: np.random.choice(id_pop, p = weights, size = moa.n_total_events, replace = True),\n",
    "                             moa.raw_column_names['date']: np.random.choice(pd.date_range(moa.date_window[0]+' 00:00:00',\n",
    "                                                                        moa.date_window[1]+' 23:59:59',\n",
    "                                                                        freq='S'),\n",
    "                                                       size = moa.n_total_events, replace = True),\n",
    "                            moa.raw_column_names['service']: np.random.randint(1, 3, size = moa.n_total_events),\n",
    "                            moa.raw_column_names['location']: np.random.choice(tow[moa.loc_column_names['cell']], size = moa.n_total_events, replace = True),\n",
    "                            moa.raw_column_names['partner_type']: choices([1,2], [0.99,0.01], k = moa.n_total_events),\n",
    "                            moa.raw_column_names['partner']: np.random.choice(id_pop, p = weights, size = moa.n_total_events, replace = True),\n",
    "                            moa.raw_column_names['tac']: np.random.uniform(1000000, 10000000, size = moa.n_total_events),\n",
    "                            moa.raw_column_names['duration']: np.random.randint(0, moa.max_call_duration*call_unit_multiplier, \n",
    "                                                                                size = moa.n_total_events)/call_unit_multiplier})"
   ]
  },
  {
   "cell_type": "code",
   "execution_count": null,
   "metadata": {},
   "outputs": [],
   "source": [
    "# create chunk for daily saves (later on)\n",
    "cdr_out['chunk'] = cdr_out[moa.raw_column_names['date']].dt.strftime('%Y%m%d')"
   ]
  },
  {
   "cell_type": "code",
   "execution_count": null,
   "metadata": {},
   "outputs": [],
   "source": [
    "# altering functions to comply with given format\n",
    "if moa.date_format is not None:\n",
    "    cdr_out[moa.raw_column_names['date']] = cdr_out[moa.raw_column_names['date']]\\\n",
    "                                            .map(lambda x: str(x.strftime(moa.date_format)).upper())"
   ]
  },
  {
   "cell_type": "markdown",
   "metadata": {},
   "source": [
    "## Create basic incoming frame"
   ]
  },
  {
   "cell_type": "code",
   "execution_count": null,
   "metadata": {},
   "outputs": [],
   "source": [
    "cdr_in = pd.DataFrame(data={moa.raw_column_names['type']: 1,\n",
    "                            moa.raw_column_names['msisdn']: cdr_out[moa.raw_column_names['partner']],\n",
    "                            moa.raw_column_names['date']: cdr_out[moa.raw_column_names['date']],\n",
    "                            moa.raw_column_names['service']: cdr_out[moa.raw_column_names['service']],\n",
    "                            moa.raw_column_names['location']: np.random.choice(tow[moa.loc_column_names['cell']], size = moa.n_total_events, replace = True),\n",
    "                            moa.raw_column_names['partner_type']: cdr_out[moa.raw_column_names['type']],\n",
    "                            moa.raw_column_names['partner']: cdr_out[moa.raw_column_names['msisdn']],\n",
    "                            moa.raw_column_names['tac']: np.random.uniform(1000000, 10000000, size = moa.n_total_events),\n",
    "                            moa.raw_column_names['duration']: cdr_out[moa.raw_column_names['duration']],\n",
    "                            'chunk': cdr_out['chunk']})"
   ]
  },
  {
   "cell_type": "markdown",
   "metadata": {},
   "source": [
    "## Join to one frame"
   ]
  },
  {
   "cell_type": "code",
   "execution_count": null,
   "metadata": {},
   "outputs": [],
   "source": [
    "cdr = cdr_in.append(cdr_out)\n",
    "# release memory\n",
    "del [cdr_in, cdr_out]"
   ]
  },
  {
   "cell_type": "markdown",
   "metadata": {},
   "source": [
    "## Postprocessing"
   ]
  },
  {
   "cell_type": "code",
   "execution_count": null,
   "metadata": {},
   "outputs": [],
   "source": [
    "# Remove OOA records\n",
    "cdr = cdr[~cdr[moa.raw_column_names['location']].isin(tow_out)]"
   ]
  },
  {
   "cell_type": "code",
   "execution_count": null,
   "metadata": {},
   "outputs": [],
   "source": [
    "# Delete records of self-calling/-texting\n",
    "cdr = cdr[cdr[moa.raw_column_names['msisdn']] != cdr[moa.raw_column_names['partner']]]"
   ]
  },
  {
   "cell_type": "code",
   "execution_count": null,
   "metadata": {},
   "outputs": [],
   "source": [
    "# Set call duration for SMS to NA\n",
    "cdr[moa.raw_column_names['duration']] = np.where(cdr[moa.raw_column_names['service']] == 2, None,\n",
    "                                                 cdr[moa.raw_column_names['duration']])"
   ]
  },
  {
   "cell_type": "markdown",
   "metadata": {},
   "source": [
    "## Exporting"
   ]
  },
  {
   "cell_type": "markdown",
   "metadata": {},
   "source": [
    "### daily CDRs to .csv"
   ]
  },
  {
   "cell_type": "code",
   "execution_count": null,
   "metadata": {},
   "outputs": [],
   "source": [
    "days = pd.date_range(moa.date_window[0], moa.date_window[1]).strftime('%Y%m%d')"
   ]
  },
  {
   "cell_type": "code",
   "execution_count": null,
   "metadata": {},
   "outputs": [],
   "source": [
    "# delete folder if it exists and create empty new one\n",
    "if os.path.exists(moa.output_path):\n",
    "    shutil.rmtree(moa.output_path)\n",
    "os.makedirs(moa.output_path)"
   ]
  },
  {
   "cell_type": "code",
   "execution_count": null,
   "metadata": {},
   "outputs": [],
   "source": [
    "for i in days:\n",
    "    temp = cdr[cdr['chunk'] == i].drop('chunk', axis=1)\n",
    "    temp.to_csv(moa.output_path + '%s.csv'%i, index=False, header=moa.raw_header)"
   ]
  },
  {
   "cell_type": "markdown",
   "metadata": {},
   "source": [
    "### tower locations to .csv"
   ]
  },
  {
   "cell_type": "code",
   "execution_count": null,
   "metadata": {},
   "outputs": [],
   "source": [
    "tow.to_csv(moa.output_path + moa.loc_file_name, index=False, header=moa.location_header)"
   ]
  }
 ],
 "metadata": {
  "kernelspec": {
   "display_name": "Python 3",
   "language": "python",
   "name": "python3"
  },
  "language_info": {
   "codemirror_mode": {
    "name": "ipython",
    "version": 3
   },
   "file_extension": ".py",
   "mimetype": "text/x-python",
   "name": "python",
   "nbconvert_exporter": "python",
   "pygments_lexer": "ipython3",
   "version": "3.6.5"
  }
 },
 "nbformat": 4,
 "nbformat_minor": 2
}
